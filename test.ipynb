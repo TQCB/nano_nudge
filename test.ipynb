{
 "cells": [
  {
   "cell_type": "code",
   "execution_count": null,
   "id": "ad296ef5",
   "metadata": {},
   "outputs": [],
   "source": [
    "from collections.abc import Callable"
   ]
  },
  {
   "cell_type": "code",
   "execution_count": null,
   "id": "6d4fd452",
   "metadata": {},
   "outputs": [],
   "source": [
    "class RandomHalver:\n",
    "    def __init__(\n",
    "            self,\n",
    "            objective: Callable[..., float],\n",
    "            factor: int,\n",
    "            resource: str,\n",
    "            max_resource: float,\n",
    "            min_resource: float,\n",
    "    )\n",
    "    \"\"\"\n",
    "    Optimize parameters of a function by successively halving proposed candidates while increasing resources consumed to evaluate function.\n",
    "\n",
    "    Args:\n",
    "        objective (callable): The objective function whose parameters we are searching to optimize.\n",
    "        factor (int): The factor which determnies the proportion of candidates selected for each next iteration. For example `factor=3` will only select a third of candidates.\n",
    "        resource (str): The resource which will progressively increase across iterations.\n",
    "        min_resource (float): The minimum value of the resource that we will begin at.\n",
    "        max_resource (float): The maximum value of the resource that we will end at.    \n",
    "    \"\"\""
   ]
  },
  {
   "cell_type": "code",
   "execution_count": null,
   "id": "8f555d67",
   "metadata": {},
   "outputs": [],
   "source": [
    "class GridHalver:"
   ]
  }
 ],
 "metadata": {
  "language_info": {
   "name": "python"
  }
 },
 "nbformat": 4,
 "nbformat_minor": 5
}
